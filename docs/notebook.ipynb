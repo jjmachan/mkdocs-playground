{
 "cells": [
  {
   "cell_type": "markdown",
   "metadata": {},
   "source": [
    "This is just a test"
   ]
  },
  {
   "cell_type": "markdown",
   "metadata": {},
   "source": [
    "# There will be more"
   ]
  },
  {
   "cell_type": "code",
   "execution_count": 1,
   "metadata": {},
   "outputs": [
    {
     "data": {
      "text/plain": [
       "'[1, 2, 3, 4]'"
      ]
     },
     "execution_count": 1,
     "metadata": {},
     "output_type": "execute_result"
    }
   ],
   "source": [
    "import json\n",
    "\n",
    "l = [1, 2, 3, 4]\n",
    "json.dumps(l)"
   ]
  },
  {
   "cell_type": "code",
   "execution_count": 3,
   "metadata": {},
   "outputs": [
    {
     "data": {
      "text/plain": [
       "{'something': [1, 2, 3], 'test': 'hai'}"
      ]
     },
     "execution_count": 3,
     "metadata": {},
     "output_type": "execute_result"
    }
   ],
   "source": [
    "d = {\n",
    "    \"something\": [1, 2, 3],\n",
    "    \"test\": \"hai\",\n",
    "}\n",
    "\n",
    "d"
   ]
  },
  {
   "cell_type": "code",
   "execution_count": 4,
   "metadata": {},
   "outputs": [
    {
     "ename": "RuntimeError",
     "evalue": "",
     "output_type": "error",
     "traceback": [
      "\u001b[0;31m---------------------------------------------------------------------------\u001b[0m",
      "\u001b[0;31mRuntimeError\u001b[0m                              Traceback (most recent call last)",
      "Cell \u001b[0;32mIn[4], line 1\u001b[0m\n\u001b[0;32m----> 1\u001b[0m \u001b[38;5;28;01mraise\u001b[39;00m \u001b[38;5;167;01mRuntimeError\u001b[39;00m\n",
      "\u001b[0;31mRuntimeError\u001b[0m: "
     ]
    }
   ],
   "source": [
    "raise RuntimeError"
   ]
  },
  {
   "cell_type": "code",
   "execution_count": 6,
   "metadata": {},
   "outputs": [
    {
     "name": "stderr",
     "output_type": "stream",
     "text": [
      "/home/jjmachan/.pyenv/versions/3.10.12/envs/mkdocs/lib/python3.10/site-packages/tqdm/auto.py:21: TqdmWarning: IProgress not found. Please update jupyter and ipywidgets. See https://ipywidgets.readthedocs.io/en/stable/user_install.html\n",
      "  from .autonotebook import tqdm as notebook_tqdm\n",
      "Repo card metadata block was not found. Setting CardData to empty.\n"
     ]
    },
    {
     "data": {
      "text/plain": [
       "DatasetDict({\n",
       "    eval: Dataset({\n",
       "        features: ['question', 'ground_truth', 'answer', 'contexts'],\n",
       "        num_rows: 20\n",
       "    })\n",
       "})"
      ]
     },
     "execution_count": 6,
     "metadata": {},
     "output_type": "execute_result"
    }
   ],
   "source": [
    "from datasets import load_dataset\n",
    "\n",
    "# loading the V2 dataset\n",
    "amnesty_qa = load_dataset(\"explodinggradients/amnesty_qa\", \"english_v2\")\n",
    "amnesty_qa\n"
   ]
  },
  {
   "cell_type": "code",
   "execution_count": 7,
   "metadata": {},
   "outputs": [
    {
     "data": {
      "text/html": [
       "<div>\n",
       "<style scoped>\n",
       "    .dataframe tbody tr th:only-of-type {\n",
       "        vertical-align: middle;\n",
       "    }\n",
       "\n",
       "    .dataframe tbody tr th {\n",
       "        vertical-align: top;\n",
       "    }\n",
       "\n",
       "    .dataframe thead th {\n",
       "        text-align: right;\n",
       "    }\n",
       "</style>\n",
       "<table border=\"1\" class=\"dataframe\">\n",
       "  <thead>\n",
       "    <tr style=\"text-align: right;\">\n",
       "      <th></th>\n",
       "      <th>question</th>\n",
       "      <th>ground_truth</th>\n",
       "      <th>answer</th>\n",
       "      <th>contexts</th>\n",
       "    </tr>\n",
       "  </thead>\n",
       "  <tbody>\n",
       "    <tr>\n",
       "      <th>0</th>\n",
       "      <td>What are the global implications of the USA Su...</td>\n",
       "      <td>The global implications of the USA Supreme Cou...</td>\n",
       "      <td>The global implications of the USA Supreme Cou...</td>\n",
       "      <td>[- In 2022, the USA Supreme Court handed down ...</td>\n",
       "    </tr>\n",
       "    <tr>\n",
       "      <th>1</th>\n",
       "      <td>Which companies are the main contributors to G...</td>\n",
       "      <td>According to the Carbon Majors database, the m...</td>\n",
       "      <td>According to the Carbon Majors database, the m...</td>\n",
       "      <td>[- Fossil fuel companies, whether state or pri...</td>\n",
       "    </tr>\n",
       "    <tr>\n",
       "      <th>2</th>\n",
       "      <td>Which private companies in the Americas are th...</td>\n",
       "      <td>The largest private companies in the Americas ...</td>\n",
       "      <td>According to the Carbon Majors database, the l...</td>\n",
       "      <td>[The private companies responsible for the mos...</td>\n",
       "    </tr>\n",
       "    <tr>\n",
       "      <th>3</th>\n",
       "      <td>What action did Amnesty International urge its...</td>\n",
       "      <td>Amnesty International urged its supporters to ...</td>\n",
       "      <td>Amnesty International urged its supporters to ...</td>\n",
       "      <td>[Amnesty International called on its vast netw...</td>\n",
       "    </tr>\n",
       "    <tr>\n",
       "      <th>4</th>\n",
       "      <td>What are the recommendations made by Amnesty I...</td>\n",
       "      <td>The recommendations made by Amnesty Internatio...</td>\n",
       "      <td>Amnesty International made several recommendat...</td>\n",
       "      <td>[Amnesty International recommends that the Spe...</td>\n",
       "    </tr>\n",
       "    <tr>\n",
       "      <th>5</th>\n",
       "      <td>Who are the target audience of the two books c...</td>\n",
       "      <td>The target audience of the two books created b...</td>\n",
       "      <td>The target audience of the two books created b...</td>\n",
       "      <td>[Amnesty International has therefore created t...</td>\n",
       "    </tr>\n",
       "    <tr>\n",
       "      <th>6</th>\n",
       "      <td>Which right guarantees access to comprehensive...</td>\n",
       "      <td>The right that guarantees access to comprehens...</td>\n",
       "      <td>The right that guarantees access to comprehens...</td>\n",
       "      <td>[26. The Act raises serious questions about it...</td>\n",
       "    </tr>\n",
       "    <tr>\n",
       "      <th>7</th>\n",
       "      <td>Who has the right to be fully informed about h...</td>\n",
       "      <td>The victims of gross human rights violations a...</td>\n",
       "      <td>Everyone has the right to be fully informed ab...</td>\n",
       "      <td>[- The victims of gross human rights violation...</td>\n",
       "    </tr>\n",
       "    <tr>\n",
       "      <th>8</th>\n",
       "      <td>When can individuals be found guilty under Art...</td>\n",
       "      <td>Individuals can be found guilty under Article ...</td>\n",
       "      <td>Under Article 207.3 of the Russian Criminal Co...</td>\n",
       "      <td>[- As long as their statements are contrary to...</td>\n",
       "    </tr>\n",
       "    <tr>\n",
       "      <th>9</th>\n",
       "      <td>When does the prosecution consider statements ...</td>\n",
       "      <td>The prosecution considers statements contrary ...</td>\n",
       "      <td>Under Article 207.3 of the Russian Criminal Co...</td>\n",
       "      <td>[- As long as their statements are contrary to...</td>\n",
       "    </tr>\n",
       "    <tr>\n",
       "      <th>10</th>\n",
       "      <td>What factors have contributed to the decline o...</td>\n",
       "      <td>The factors that have contributed to the decli...</td>\n",
       "      <td>There are several factors that have contribute...</td>\n",
       "      <td>[- \"arrests and harassment of human rights def...</td>\n",
       "    </tr>\n",
       "    <tr>\n",
       "      <th>11</th>\n",
       "      <td>What conditions designate wetlands as Ramsar s...</td>\n",
       "      <td>The conditions that designate wetlands as Rams...</td>\n",
       "      <td>Wetlands are designated as Ramsar sites based ...</td>\n",
       "      <td>[- \"Ramsar sites are designated when they fulf...</td>\n",
       "    </tr>\n",
       "    <tr>\n",
       "      <th>12</th>\n",
       "      <td>Where was COP15 held in 2022?</td>\n",
       "      <td>COP15 was held in Montreal, Canada in 2022.</td>\n",
       "      <td>COP15 was held in Kunming, China in 2022.</td>\n",
       "      <td>[- These include the agreement known as 30x30,...</td>\n",
       "    </tr>\n",
       "    <tr>\n",
       "      <th>13</th>\n",
       "      <td>What is the purpose of the agreement known as ...</td>\n",
       "      <td>The purpose of the agreement known as 30x30 is...</td>\n",
       "      <td>The purpose of the agreement known as 30x30 is...</td>\n",
       "      <td>[- These include the agreement known as 30x30,...</td>\n",
       "    </tr>\n",
       "    <tr>\n",
       "      <th>14</th>\n",
       "      <td>Who failed to explicitly recognize Indigenous ...</td>\n",
       "      <td>The States failed to explicitly recognize Indi...</td>\n",
       "      <td>At COP15, the United Nations Climate Change Co...</td>\n",
       "      <td>[Unfortunately, at COP15, States failed to exp...</td>\n",
       "    </tr>\n",
       "    <tr>\n",
       "      <th>15</th>\n",
       "      <td>What are the consequences of criminalizing abo...</td>\n",
       "      <td>The consequences of criminalizing abortion for...</td>\n",
       "      <td>Criminalizing abortion can have severe consequ...</td>\n",
       "      <td>[- Abortion criminalization contributes to sti...</td>\n",
       "    </tr>\n",
       "    <tr>\n",
       "      <th>16</th>\n",
       "      <td>What responsibilities should social media comp...</td>\n",
       "      <td>Social media companies should have the respons...</td>\n",
       "      <td>Social media companies have a responsibility t...</td>\n",
       "      <td>[Social media companies involved in facilitati...</td>\n",
       "    </tr>\n",
       "    <tr>\n",
       "      <th>17</th>\n",
       "      <td>What role do social media companies play in pr...</td>\n",
       "      <td>Social media companies play a role in protecti...</td>\n",
       "      <td>Social media companies play a crucial role in ...</td>\n",
       "      <td>[Companies, including social media companies, ...</td>\n",
       "    </tr>\n",
       "    <tr>\n",
       "      <th>18</th>\n",
       "      <td>What labor abuses were documented by Amnesty I...</td>\n",
       "      <td>Amnesty International documented labor abuses ...</td>\n",
       "      <td>Amnesty International has documented several l...</td>\n",
       "      <td>[During the tournament, Amnesty International ...</td>\n",
       "    </tr>\n",
       "    <tr>\n",
       "      <th>19</th>\n",
       "      <td>When did the government of Qatar start repeali...</td>\n",
       "      <td>The government of Qatar started repealing rest...</td>\n",
       "      <td>The government of Qatar started repealing rest...</td>\n",
       "      <td>[Between 2018 and 2020, the government took im...</td>\n",
       "    </tr>\n",
       "  </tbody>\n",
       "</table>\n",
       "</div>"
      ],
      "text/plain": [
       "                                             question  \\\n",
       "0   What are the global implications of the USA Su...   \n",
       "1   Which companies are the main contributors to G...   \n",
       "2   Which private companies in the Americas are th...   \n",
       "3   What action did Amnesty International urge its...   \n",
       "4   What are the recommendations made by Amnesty I...   \n",
       "5   Who are the target audience of the two books c...   \n",
       "6   Which right guarantees access to comprehensive...   \n",
       "7   Who has the right to be fully informed about h...   \n",
       "8   When can individuals be found guilty under Art...   \n",
       "9   When does the prosecution consider statements ...   \n",
       "10  What factors have contributed to the decline o...   \n",
       "11  What conditions designate wetlands as Ramsar s...   \n",
       "12                      Where was COP15 held in 2022?   \n",
       "13  What is the purpose of the agreement known as ...   \n",
       "14  Who failed to explicitly recognize Indigenous ...   \n",
       "15  What are the consequences of criminalizing abo...   \n",
       "16  What responsibilities should social media comp...   \n",
       "17  What role do social media companies play in pr...   \n",
       "18  What labor abuses were documented by Amnesty I...   \n",
       "19  When did the government of Qatar start repeali...   \n",
       "\n",
       "                                         ground_truth  \\\n",
       "0   The global implications of the USA Supreme Cou...   \n",
       "1   According to the Carbon Majors database, the m...   \n",
       "2   The largest private companies in the Americas ...   \n",
       "3   Amnesty International urged its supporters to ...   \n",
       "4   The recommendations made by Amnesty Internatio...   \n",
       "5   The target audience of the two books created b...   \n",
       "6   The right that guarantees access to comprehens...   \n",
       "7   The victims of gross human rights violations a...   \n",
       "8   Individuals can be found guilty under Article ...   \n",
       "9   The prosecution considers statements contrary ...   \n",
       "10  The factors that have contributed to the decli...   \n",
       "11  The conditions that designate wetlands as Rams...   \n",
       "12        COP15 was held in Montreal, Canada in 2022.   \n",
       "13  The purpose of the agreement known as 30x30 is...   \n",
       "14  The States failed to explicitly recognize Indi...   \n",
       "15  The consequences of criminalizing abortion for...   \n",
       "16  Social media companies should have the respons...   \n",
       "17  Social media companies play a role in protecti...   \n",
       "18  Amnesty International documented labor abuses ...   \n",
       "19  The government of Qatar started repealing rest...   \n",
       "\n",
       "                                               answer  \\\n",
       "0   The global implications of the USA Supreme Cou...   \n",
       "1   According to the Carbon Majors database, the m...   \n",
       "2   According to the Carbon Majors database, the l...   \n",
       "3   Amnesty International urged its supporters to ...   \n",
       "4   Amnesty International made several recommendat...   \n",
       "5   The target audience of the two books created b...   \n",
       "6   The right that guarantees access to comprehens...   \n",
       "7   Everyone has the right to be fully informed ab...   \n",
       "8   Under Article 207.3 of the Russian Criminal Co...   \n",
       "9   Under Article 207.3 of the Russian Criminal Co...   \n",
       "10  There are several factors that have contribute...   \n",
       "11  Wetlands are designated as Ramsar sites based ...   \n",
       "12          COP15 was held in Kunming, China in 2022.   \n",
       "13  The purpose of the agreement known as 30x30 is...   \n",
       "14  At COP15, the United Nations Climate Change Co...   \n",
       "15  Criminalizing abortion can have severe consequ...   \n",
       "16  Social media companies have a responsibility t...   \n",
       "17  Social media companies play a crucial role in ...   \n",
       "18  Amnesty International has documented several l...   \n",
       "19  The government of Qatar started repealing rest...   \n",
       "\n",
       "                                             contexts  \n",
       "0   [- In 2022, the USA Supreme Court handed down ...  \n",
       "1   [- Fossil fuel companies, whether state or pri...  \n",
       "2   [The private companies responsible for the mos...  \n",
       "3   [Amnesty International called on its vast netw...  \n",
       "4   [Amnesty International recommends that the Spe...  \n",
       "5   [Amnesty International has therefore created t...  \n",
       "6   [26. The Act raises serious questions about it...  \n",
       "7   [- The victims of gross human rights violation...  \n",
       "8   [- As long as their statements are contrary to...  \n",
       "9   [- As long as their statements are contrary to...  \n",
       "10  [- \"arrests and harassment of human rights def...  \n",
       "11  [- \"Ramsar sites are designated when they fulf...  \n",
       "12  [- These include the agreement known as 30x30,...  \n",
       "13  [- These include the agreement known as 30x30,...  \n",
       "14  [Unfortunately, at COP15, States failed to exp...  \n",
       "15  [- Abortion criminalization contributes to sti...  \n",
       "16  [Social media companies involved in facilitati...  \n",
       "17  [Companies, including social media companies, ...  \n",
       "18  [During the tournament, Amnesty International ...  \n",
       "19  [Between 2018 and 2020, the government took im...  "
      ]
     },
     "execution_count": 7,
     "metadata": {},
     "output_type": "execute_result"
    }
   ],
   "source": [
    "amnesty_qa[\"eval\"].to_pandas()"
   ]
  },
  {
   "cell_type": "code",
   "execution_count": null,
   "metadata": {},
   "outputs": [],
   "source": []
  }
 ],
 "metadata": {
  "kernelspec": {
   "display_name": "mkdocs",
   "language": "python",
   "name": "python3"
  },
  "language_info": {
   "codemirror_mode": {
    "name": "ipython",
    "version": 3
   },
   "file_extension": ".py",
   "mimetype": "text/x-python",
   "name": "python",
   "nbconvert_exporter": "python",
   "pygments_lexer": "ipython3",
   "version": "3.10.12"
  }
 },
 "nbformat": 4,
 "nbformat_minor": 2
}
